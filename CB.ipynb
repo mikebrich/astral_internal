{
 "cells": [
  {
   "cell_type": "code",
   "execution_count": 1,
   "id": "e5dd915c-270b-44a9-81ad-c713f948fe51",
   "metadata": {},
   "outputs": [],
   "source": [
    "import pandas as pd\n",
    "import numpy as np"
   ]
  },
  {
   "cell_type": "code",
   "execution_count": null,
   "id": "1d8efb7d-7203-4eac-982d-0aac585c6eab",
   "metadata": {},
   "outputs": [],
   "source": [
    "df = pd.read_excel('inputs/CB_DataDump.xlsx') #read in the excel, put into DF\n",
    "df"
   ]
  }
 ],
 "metadata": {
  "kernelspec": {
   "display_name": "Python 3 (ipykernel)",
   "language": "python",
   "name": "python3"
  },
  "language_info": {
   "codemirror_mode": {
    "name": "ipython",
    "version": 3
   },
   "file_extension": ".py",
   "mimetype": "text/x-python",
   "name": "python",
   "nbconvert_exporter": "python",
   "pygments_lexer": "ipython3",
   "version": "3.9.13"
  }
 },
 "nbformat": 4,
 "nbformat_minor": 5
}
